{
 "cells": [
  {
   "cell_type": "code",
   "execution_count": 0,
   "metadata": {
    "application/vnd.databricks.v1+cell": {
     "cellMetadata": {
      "byteLimit": 2048000,
      "rowLimit": 10000
     },
     "inputWidgets": {},
     "nuid": "98bc2c2d-e707-4558-bff1-4dcbb28edff2",
     "showTitle": false,
     "tableResultSettingsMap": {},
     "title": ""
    }
   },
   "outputs": [],
   "source": [
    "from datetime import datetime\n",
    "from pyspark.sql.functions import input_file_name, current_timestamp, lit, to_date\n",
    "import re\n",
    "\n",
    "record_date = datetime.today().strftime('%Y%m%d')\n",
    "\n",
    "artist_csv_path = f\"/Volumes/lastfmdata/bronze/csv_uploads/top_artists_{record_date}\"\n",
    "\n",
    "# Read CSV\n",
    "df_artists = spark.read.option(\"header\", True).csv(artist_csv_path)\n",
    "\n",
    "# Add record_date and load_timestamp\n",
    "df_artists = df_artists \\\n",
    "    .withColumn(\"record_date\", to_date(lit(record_date), \"yyyyMMdd\")) \\\n",
    "    .withColumn(\"load_timestamp\", current_timestamp())\n",
    "\n",
    "# Write to Delta landing artists table\n",
    "df_artists.write.format(\"delta\").mode(\"append\").saveAsTable(\"lastfmdata.bronze.landing_artists\")\n",
    "\n",
    "track_csv_path = f\"/Volumes/lastfmdata/bronze/csv_uploads/top_tracks_{record_date}\"\n",
    "\n",
    "# Read CSV\n",
    "df_tracks = spark.read.option(\"header\", True).csv(track_csv_path)\n",
    "\n",
    "# Add record_date and load_timestamp\n",
    "df_tracks = df_tracks \\\n",
    "    .withColumn(\"record_date\", to_date(lit(record_date), \"yyyyMMdd\")) \\\n",
    "    .withColumn(\"load_timestamp\", current_timestamp())\n",
    "\n",
    "# Write to Delta landing tracks table\n",
    "df_tracks.write.format(\"delta\").mode(\"append\").saveAsTable(\"lastfmdata.bronze.landing_tracks\")"
   ]
  }
 ],
 "metadata": {
  "application/vnd.databricks.v1+notebook": {
   "computePreferences": null,
   "dashboards": [],
   "environmentMetadata": {
    "base_environment": "",
    "environment_version": "2"
   },
   "inputWidgetPreferences": null,
   "language": "python",
   "notebookMetadata": {
    "pythonIndentUnit": 4
   },
   "notebookName": "FileToLanding",
   "widgets": {}
  },
  "language_info": {
   "name": "python"
  }
 },
 "nbformat": 4,
 "nbformat_minor": 0
}