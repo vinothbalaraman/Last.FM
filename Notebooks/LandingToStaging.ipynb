{
 "cells": [
  {
   "cell_type": "code",
   "execution_count": 0,
   "metadata": {
    "application/vnd.databricks.v1+cell": {
     "cellMetadata": {
      "byteLimit": 2048000,
      "rowLimit": 10000
     },
     "inputWidgets": {},
     "nuid": "52367e5c-fb79-4e45-9c25-4873a30e62d4",
     "showTitle": false,
     "tableResultSettingsMap": {},
     "title": ""
    }
   },
   "outputs": [],
   "source": [
    "from pyspark.sql.functions import col, current_timestamp, lit\n",
    "from datetime import datetime\n",
    "\n",
    "record_date = datetime.today().strftime('%Y-%m-%d')\n",
    "\n",
    "# 1. Read both landing tables\n",
    "df_tracks = spark.read.table(\"lastfmdata.bronze.landing_tracks\")\n",
    "df_artists = spark.read.table(\"lastfmdata.bronze.landing_artists\")\n",
    "\n",
    "# 2. Filter tracks and convert duration to INT\n",
    "df_tracks_clean = df_tracks \\\n",
    "    .filter((col(\"duration\").isNotNull()) & (col(\"duration\") != \"0\")) \\\n",
    "    .withColumn(\"duration_in_seconds\", col(\"duration\").cast(\"int\"))\n",
    "\n",
    "# 3. Join with artist table\n",
    "df_joined = df_tracks_clean.alias(\"t\") \\\n",
    "    .join(\n",
    "        df_artists.alias(\"a\"),\n",
    "        (col(\"t.artist_name\") == col(\"a.name\")) & \n",
    "        (col(\"t.country\") == col(\"a.country\")) & \n",
    "        (col(\"t.record_date\") == col(\"a.record_date\")),\n",
    "        how=\"left\"\n",
    "    )\n",
    "\n",
    "# 4. Select required columns\n",
    "df_online = df_joined.select(\n",
    "    col(\"t.artist_name\"),\n",
    "    col(\"t.name\").alias(\"track_name\"),\n",
    "    col(\"duration_in_seconds\"),\n",
    "    col(\"t.url\").alias(\"track_url\"),\n",
    "    col(\"a.url\").alias(\"artist_url\"),\n",
    "    col(\"t.country\"),\n",
    "    col(\"t.record_date\")\n",
    ").dropDuplicates([\"record_date\", \"artist_name\", \"track_name\"]) \\\n",
    " .withColumn(\"load_timestamp\", current_timestamp())\n",
    "\n",
    "#  # Ensure the record_date matches the specified record_date\n",
    "# df_online_filtered = df_online.filter(col(\"record_date\") == record_date)\n",
    "\n",
    "# 5. Write to silver table\n",
    "df_online.write \\\n",
    "  .format(\"delta\") \\\n",
    "  .mode(\"overwrite\")  \\\n",
    "  .saveAsTable(\"lastfmdata.silver.online_artist_tracks\")\n"
   ]
  }
 ],
 "metadata": {
  "application/vnd.databricks.v1+notebook": {
   "computePreferences": null,
   "dashboards": [],
   "environmentMetadata": {
    "base_environment": "",
    "environment_version": "2"
   },
   "inputWidgetPreferences": null,
   "language": "python",
   "notebookMetadata": {
    "mostRecentlyExecutedCommandWithImplicitDF": {
     "commandId": 4979827103901373,
     "dataframes": [
      "_sqldf"
     ]
    },
    "pythonIndentUnit": 4
   },
   "notebookName": "LandingToStaging",
   "widgets": {}
  },
  "language_info": {
   "name": "python"
  }
 },
 "nbformat": 4,
 "nbformat_minor": 0
}